{
  "nbformat": 4,
  "nbformat_minor": 0,
  "metadata": {
    "colab": {
      "provenance": [],
      "authorship_tag": "ABX9TyM/9zmdSbujS2G/LBoLNHCS",
      "include_colab_link": true
    },
    "kernelspec": {
      "name": "python3",
      "display_name": "Python 3"
    },
    "language_info": {
      "name": "python"
    }
  },
  "cells": [
    {
      "cell_type": "markdown",
      "metadata": {
        "id": "view-in-github",
        "colab_type": "text"
      },
      "source": [
        "<a href=\"https://colab.research.google.com/github/SarinaMashreghi/option_pricing/blob/main/Python/option_pricing.ipynb\" target=\"_parent\"><img src=\"https://colab.research.google.com/assets/colab-badge.svg\" alt=\"Open In Colab\"/></a>"
      ]
    },
    {
      "cell_type": "markdown",
      "source": [
        "##Binomial Tree"
      ],
      "metadata": {
        "id": "Gg-lDJsUcn0l"
      }
    },
    {
      "cell_type": "code",
      "source": [
        "import numpy as np"
      ],
      "metadata": {
        "id": "H-tzposWc7ee"
      },
      "execution_count": 2,
      "outputs": []
    },
    {
      "cell_type": "code",
      "execution_count": 1,
      "metadata": {
        "id": "rGoKXa5KaEsa"
      },
      "outputs": [],
      "source": [
        "# Initialise parameters\n",
        "S0 = 100      # initial stock price\n",
        "K = 100       # strike price\n",
        "T = 1         # time to maturity in years\n",
        "r = 0.06      # annual risk-free rate\n",
        "N = 3         # number of time steps\n",
        "u = 1.1       # up-factor in binomial models\n",
        "d = 1/u       # ensure recombining tree\n",
        "opttype = 'C' # Option Type 'C' or 'P'"
      ]
    },
    {
      "cell_type": "code",
      "source": [
        "def binomial_tree(K,T,S0,r,N,u,d,opttype='C'):\n",
        "    dt = T/N\n",
        "    q = (np.exp(r*dt) - d) / (u-d)\n",
        "    p = 1 - q\n",
        "    disc = np.exp(-r*dt)\n",
        "\n",
        "    # initialise asset prices at maturity - Time step N\n",
        "    C = S0 * d ** (np.arange(N,-1,-1)) * u ** (np.arange(0,N+1,1))\n",
        "\n",
        "    # initialise option values at maturity\n",
        "    C = np.maximum( C - K , np.zeros(N+1) )\n",
        "\n",
        "    # step backwards through tree\n",
        "    for i in np.arange(N,0,-1):\n",
        "        C = disc * ( q * C[1:i+1] + (1-q) * C[0:i] )\n",
        "\n",
        "    return C[0]\n",
        "\n",
        "binomial_tree(K,T,S0,r,N,u,d,opttype='C')"
      ],
      "metadata": {
        "colab": {
          "base_uri": "https://localhost:8080/"
        },
        "id": "ERIuunbTc49_",
        "outputId": "e0237635-1b68-4d42-80d9-7cb3c468a5c1"
      },
      "execution_count": 3,
      "outputs": [
        {
          "output_type": "execute_result",
          "data": {
            "text/plain": [
              "10.145735799928826"
            ]
          },
          "metadata": {},
          "execution_count": 3
        }
      ]
    },
    {
      "cell_type": "markdown",
      "source": [
        "##Barrier Options"
      ],
      "metadata": {
        "id": "cigH8b4DetIj"
      }
    },
    {
      "cell_type": "code",
      "source": [
        "# Initialise parameters\n",
        "S0 = 100      # initial stock price\n",
        "K = 100       # strike price\n",
        "T = 1         # time to maturity in years\n",
        "H = 125       # up-and-out barrier price/value\n",
        "r = 0.06      # annual risk-free rate\n",
        "N = 3         # number of time steps\n",
        "u = 1.1       # up-factor in binomial models\n",
        "d = 1/u       # ensure recombining tree\n",
        "opttype = 'C' # Option Type 'C' or 'P'"
      ],
      "metadata": {
        "id": "71wP0ysojucH"
      },
      "execution_count": 4,
      "outputs": []
    },
    {
      "cell_type": "code",
      "source": [
        "def barrier_tree(K,T,S0,H,r,N,u,d,opttype='C'):\n",
        "    #precompute values\n",
        "    dt = T/N\n",
        "    q = (np.exp(r*dt) - d)/(u-d)\n",
        "    disc = np.exp(-r*dt)\n",
        "\n",
        "    # initialise asset prices at maturity\n",
        "    S = S0 * d**(np.arange(N,-1,-1)) * u**(np.arange(0,N+1,1))\n",
        "\n",
        "    # option payoff\n",
        "    if opttype == 'C':\n",
        "        C = np.maximum( S - K, 0 )\n",
        "    else:\n",
        "        C = np.maximum( K - S, 0 )\n",
        "\n",
        "    # check terminal condition payoff\n",
        "    C[S >= H] = 0\n",
        "\n",
        "    # backward recursion through the tree\n",
        "    for i in np.arange(N-1,-1,-1):\n",
        "        S = S0 * d**(np.arange(i,-1,-1)) * u**(np.arange(0,i+1,1))\n",
        "        C[:i+1] = disc * ( q * C[1:i+2] + (1-q) * C[0:i+1] )\n",
        "        C = C[:-1]\n",
        "        C[S >= H] = 1\n",
        "    return C[0]\n",
        "\n",
        "barrier_tree(K,T,S0,H,r,N,u,d,opttype='C')"
      ],
      "metadata": {
        "colab": {
          "base_uri": "https://localhost:8080/"
        },
        "id": "ziLMKXYWjvcI",
        "outputId": "9c7ee81b-ca20-4edf-a353-0f86af789604"
      },
      "execution_count": 7,
      "outputs": [
        {
          "output_type": "execute_result",
          "data": {
            "text/plain": [
              "4.00026736854323"
            ]
          },
          "metadata": {},
          "execution_count": 7
        }
      ]
    },
    {
      "cell_type": "markdown",
      "source": [
        "##American Options"
      ],
      "metadata": {
        "id": "YvVraAnuevTv"
      }
    }
  ]
}